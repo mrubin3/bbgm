{
 "cells": [
  {
   "cell_type": "code",
   "execution_count": 22,
   "id": "9fc81556-6b70-482e-bb97-05319f573ddd",
   "metadata": {
    "tags": []
   },
   "outputs": [],
   "source": [
    "import json\n",
    "\n",
    "#df = pd.read_json('tic bbgm no schedule.json')\n",
    "with open('BBGM_NBL_2022_draft_june (5) (4).json', 'r') as file:\n",
    "    data = json.load(file)"
   ]
  },
  {
   "cell_type": "code",
   "execution_count": 23,
   "id": "9845651f-3ffd-4215-adfe-4d92054f0e95",
   "metadata": {
    "tags": []
   },
   "outputs": [],
   "source": [
    "for player in data['players']:\n",
    "    if 'transactions' in player:\n",
    "        player_eids = []\n",
    "        for t1 in player['transactions']:\n",
    "            if 'eid' in t1:\n",
    "                continue\n",
    "            else:\n",
    "                for t2 in data['events']:\n",
    "                    if t2['type'] in ['playerFeat', 'healed', 'injured', 'minPayroll', 'madePlayoffs', 'luxuryTax', 'luxuryTaxDist', 'draftLottery', 'award', 'retired', 'playoffs', 'release', 'draft', 'reSigned', 'freeAgent']:\n",
    "                        continue\n",
    "                    elif t2['eid'] in player_eids:\n",
    "                        continue\n",
    "                    else:\n",
    "                        if player['pid'] in t2['pids']:\n",
    "                            if t1['type']==t2['type']:\n",
    "                                if t2['type']=='trade':\n",
    "                                    if t1['season']==t2['season'] and t1['tid'] in t2['tids'] and t1['fromTid'] in t2['tids']:\n",
    "                                        t1['eid'] = t2['eid']\n",
    "                                        player_eids.append(t2['eid'])\n",
    "                                        break\n",
    "                                elif t1['season']==t2['season'] and t1['tid'] in t2['tids']:\n",
    "                                    t1['eid'] = t2['eid']\n",
    "                                    player_eids.append(t2['eid'])\n",
    "                                    break"
   ]
  },
  {
   "cell_type": "code",
   "execution_count": 6,
   "id": "5b9fdee2-7375-4f51-bbd6-833daf0102e4",
   "metadata": {
    "tags": []
   },
   "outputs": [
    {
     "name": "stdout",
     "output_type": "stream",
     "text": [
      "['freeAgent', 'injured', 'playerFeat', 'healed', 'trade', 'release', 'award', 'playoffs', 'retired', 'draftLottery', 'draft', 'reSigned', 'madePlayoffs', 'minPayroll', 'luxuryTax', 'luxuryTaxDist']\n"
     ]
    }
   ],
   "source": [
    "typelist = []\n",
    "for event in data['events']:\n",
    "    if event['type'] not in typelist:\n",
    "        typelist.append(event['type'])\n",
    "print(typelist)"
   ]
  },
  {
   "cell_type": "code",
   "execution_count": 8,
   "id": "daee8021-daf3-4dac-95e2-ba97c38c64fa",
   "metadata": {
    "tags": []
   },
   "outputs": [
    {
     "data": {
      "text/plain": [
       "4993"
      ]
     },
     "execution_count": 8,
     "metadata": {},
     "output_type": "execute_result"
    }
   ],
   "source": [
    "eventslen = len(data['events'])"
   ]
  },
  {
   "cell_type": "code",
   "execution_count": 19,
   "id": "854db0d2-d954-4366-b66f-7cc445bbdaae",
   "metadata": {
    "tags": []
   },
   "outputs": [
    {
     "name": "stdout",
     "output_type": "stream",
     "text": [
      "294\n"
     ]
    }
   ],
   "source": [
    "removelist = []\n",
    "for t in data['events']:\n",
    "    if t['type'] in ['playerFeat', 'healed', 'injured', 'minPayroll', 'madePlayoffs', 'luxuryTax', 'luxuryTaxDist', 'draftLottery', 'award', 'retired', 'playoffs', 'release', 'draft', 'reSigned', 'freeAgent']:\n",
    "        removelist.append(t)\n",
    "print(len(data['events'])-len(removelist))"
   ]
  },
  {
   "cell_type": "code",
   "execution_count": 24,
   "id": "373c8345-a93c-42a3-a839-af983d898bb9",
   "metadata": {
    "tags": []
   },
   "outputs": [
    {
     "data": {
      "text/plain": [
       "[{'season': 2020, 'phase': 1, 'tid': 6, 'type': 'freeAgent'},\n",
       " {'season': 2021,\n",
       "  'phase': 1,\n",
       "  'tid': 11,\n",
       "  'type': 'trade',\n",
       "  'fromTid': 6,\n",
       "  'eid': 2241},\n",
       " {'season': 2021,\n",
       "  'phase': 1,\n",
       "  'tid': 6,\n",
       "  'type': 'trade',\n",
       "  'fromTid': 11,\n",
       "  'eid': 2287},\n",
       " {'season': 2021,\n",
       "  'phase': 1,\n",
       "  'tid': 5,\n",
       "  'type': 'trade',\n",
       "  'fromTid': 6,\n",
       "  'eid': 2520}]"
      ]
     },
     "execution_count": 24,
     "metadata": {},
     "output_type": "execute_result"
    }
   ],
   "source": [
    "data['players'][44]['transactions']"
   ]
  },
  {
   "cell_type": "code",
   "execution_count": 25,
   "id": "247fbc50-18a3-4e5e-a407-e678561c9e5e",
   "metadata": {
    "tags": []
   },
   "outputs": [],
   "source": [
    "with open('BBGM_NBL_2022_draft_june (6).json', 'w', encoding='utf-8') as f:\n",
    "    json.dump(data, f, indent=4)"
   ]
  },
  {
   "cell_type": "code",
   "execution_count": null,
   "id": "c19bb8d1-a383-4273-a346-8ee76e50f864",
   "metadata": {},
   "outputs": [],
   "source": []
  }
 ],
 "metadata": {
  "kernelspec": {
   "display_name": "Python 3 (ipykernel)",
   "language": "python",
   "name": "python3"
  },
  "language_info": {
   "codemirror_mode": {
    "name": "ipython",
    "version": 3
   },
   "file_extension": ".py",
   "mimetype": "text/x-python",
   "name": "python",
   "nbconvert_exporter": "python",
   "pygments_lexer": "ipython3",
   "version": "3.11.5"
  }
 },
 "nbformat": 4,
 "nbformat_minor": 5
}
