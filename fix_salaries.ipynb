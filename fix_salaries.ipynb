{
 "cells": [
  {
   "cell_type": "code",
   "execution_count": 24,
   "id": "bffdbc2f-32e8-4004-a994-e19c1491b0d2",
   "metadata": {
    "tags": []
   },
   "outputs": [],
   "source": [
    "import json\n",
    "\n",
    "#df = pd.read_json('tic bbgm no schedule.json')\n",
    "with open('BBGM_NBL_2022_draft_june (4)(2).json', 'r') as file:\n",
    "    data = json.load(file)"
   ]
  },
  {
   "cell_type": "code",
   "execution_count": 25,
   "id": "91e5eeff-e552-4311-b88e-c49415d9ed4e",
   "metadata": {},
   "outputs": [
    {
     "name": "stdout",
     "output_type": "stream",
     "text": [
      "294\n"
     ]
    }
   ],
   "source": [
    "count = 0\n",
    "for event in data['events']:\n",
    "    if event['type']=='trade':\n",
    "        count+=1\n",
    "print(count)"
   ]
  },
  {
   "cell_type": "code",
   "execution_count": 31,
   "id": "e02edc80-6bc1-41ff-b49f-f041a86077f7",
   "metadata": {
    "tags": []
   },
   "outputs": [
    {
     "name": "stdout",
     "output_type": "stream",
     "text": [
      "pid: 46; name: Eric Callahan\n",
      "pid: 47; name: Umur Okur\n",
      "pid: 49; name: Ben Jones\n",
      "pid: 83; name: Cameron Bocoum\n",
      "pid: 99; name: Cedric Roberts\n",
      "pid: 102; name: Ed Cleveland\n",
      "pid: 105; name: Andrew Hart\n",
      "pid: 176; name: Adrian Harris\n",
      "pid: 179; name: Evan Topoleski\n",
      "pid: 195; name: Earl Kuberski\n",
      "pid: 228; name: Johnny Onyebalu\n",
      "pid: 258; name: Delvon Bryant\n",
      "pid: 267; name: Olumide Obiagu\n",
      "pid: 319; name: Brandon Dischinger\n",
      "pid: 357; name: Chris Holden\n",
      "pid: 366; name: Jessie Coulter\n"
     ]
    }
   ],
   "source": [
    "for player in data['players']:\n",
    "    for stat in player['stats']:\n",
    "        if stat['gp'] == 0 and stat['season'] == 2020 and stat['playoffs']==False:\n",
    "            print('pid: ' + str(player['pid']) + '; name: ' + player['firstName'] + ' ' + player['lastName'])"
   ]
  },
  {
   "cell_type": "code",
   "execution_count": 27,
   "id": "68aa0399-a801-4f93-b290-061986203d87",
   "metadata": {
    "tags": []
   },
   "outputs": [],
   "source": [
    "with open('BBGM_NBL_2022_draft_june (4)(2).json', 'w', encoding='utf-8') as f:\n",
    "    json.dump(data, f, indent=4)"
   ]
  },
  {
   "cell_type": "code",
   "execution_count": null,
   "id": "35d3d375-f152-40cd-968c-1afacb143036",
   "metadata": {},
   "outputs": [],
   "source": []
  }
 ],
 "metadata": {
  "kernelspec": {
   "display_name": "Python 3 (ipykernel)",
   "language": "python",
   "name": "python3"
  },
  "language_info": {
   "codemirror_mode": {
    "name": "ipython",
    "version": 3
   },
   "file_extension": ".py",
   "mimetype": "text/x-python",
   "name": "python",
   "nbconvert_exporter": "python",
   "pygments_lexer": "ipython3",
   "version": "3.11.5"
  }
 },
 "nbformat": 4,
 "nbformat_minor": 5
}
